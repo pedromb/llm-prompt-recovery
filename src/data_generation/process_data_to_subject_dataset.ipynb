{
 "cells": [
  {
   "cell_type": "code",
   "execution_count": null,
   "metadata": {},
   "outputs": [],
   "source": [
    "import pandas as pd\n",
    "from sentence_transformers import SentenceTransformer\n",
    "from sklearn.metrics.pairwise import cosine_similarity\n",
    "import nltk\n",
    "from tqdm.auto import tqdm\n",
    "tqdm.pandas()"
   ]
  },
  {
   "cell_type": "code",
   "execution_count": null,
   "metadata": {},
   "outputs": [],
   "source": [
    "DATASET_PATH = \"../../data/data.csv\"\n",
    "MEAN_PROMPT = \"Rewrite this text convey manner human evokes text better exude genre plath tone cut include object being about please further wise this individuals could originally convey here.\"\n",
    "MEAN_PROMPT_BASE = MEAN_PROMPT[:-1] + \" {}.\"\n",
    "STOP_WORDS = set(nltk.corpus.stopwords.words('english'))"
   ]
  },
  {
   "cell_type": "code",
   "execution_count": null,
   "metadata": {},
   "outputs": [],
   "source": [
    "st_model = SentenceTransformer('sentence-transformers/sentence-t5-base')"
   ]
  },
  {
   "cell_type": "code",
   "execution_count": null,
   "metadata": {},
   "outputs": [],
   "source": [
    "MEAN_PROMPT_EMBD = st_model.encode(MEAN_PROMPT)"
   ]
  },
  {
   "cell_type": "code",
   "execution_count": null,
   "metadata": {},
   "outputs": [],
   "source": [
    "def calc_score(emb_1, emb_2):\n",
    "    return cosine_similarity([emb_1], [emb_2])[0][0]**3\n",
    "\n",
    "def optimise_single(rewrite_prompt):\n",
    "    base_promp_embedding = st_model.encode(rewrite_prompt)\n",
    "    initial_score = calc_score(MEAN_PROMPT_EMBD, base_promp_embedding)\n",
    "    best_score = initial_score\n",
    "    rewrite_prompt_words = rewrite_prompt.split()\n",
    "    rewrite_prompt_words = [word.lower() for word in rewrite_prompt_words]\n",
    "    # remove non alphanumeric characters in each word\n",
    "    rewrite_prompt_words = [\"\".join([c for c in word if c.isalnum()]) for word in rewrite_prompt_words]\n",
    "    available_words = list(set(rewrite_prompt_words) - set(MEAN_PROMPT.split()))\n",
    "    keep_going = True\n",
    "    best_words = []\n",
    "    while keep_going:\n",
    "        best_word = None\n",
    "        for word in available_words:\n",
    "            best_words.append(word.lower())\n",
    "            new_prompt = MEAN_PROMPT_BASE.format(\" \".join(best_words))\n",
    "            new_prompt_embedding = st_model.encode(new_prompt)\n",
    "            new_score = calc_score(new_prompt_embedding, base_promp_embedding)\n",
    "            best_words.pop()\n",
    "            if new_score > best_score:\n",
    "                best_score = new_score\n",
    "                best_word = word\n",
    "        if best_word:\n",
    "            best_words.append(best_word.lower())\n",
    "            available_words.remove(best_word)\n",
    "        if not best_word or len(available_words) == 0 or best_score > 0.9:\n",
    "            break\n",
    "    return \" \".join(best_words)"
   ]
  },
  {
   "cell_type": "code",
   "execution_count": null,
   "metadata": {},
   "outputs": [],
   "source": [
    "data = pd.read_csv(DATASET_PATH)"
   ]
  },
  {
   "cell_type": "code",
   "execution_count": null,
   "metadata": {},
   "outputs": [],
   "source": [
    "data[\"subject\"] = data.rewrite_prompt.progress_apply(optimise_single)"
   ]
  }
 ],
 "metadata": {
  "kernelspec": {
   "display_name": "personal",
   "language": "python",
   "name": "python3"
  },
  "language_info": {
   "codemirror_mode": {
    "name": "ipython",
    "version": 3
   },
   "file_extension": ".py",
   "mimetype": "text/x-python",
   "name": "python",
   "nbconvert_exporter": "python",
   "pygments_lexer": "ipython3",
   "version": "3.10.13"
  }
 },
 "nbformat": 4,
 "nbformat_minor": 2
}
