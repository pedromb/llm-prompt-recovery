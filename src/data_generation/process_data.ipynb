{
 "cells": [
  {
   "cell_type": "code",
   "execution_count": null,
   "metadata": {},
   "outputs": [],
   "source": [
    "import pandas as pd\n",
    "from rapidfuzz import fuzz\n",
    "from tqdm.auto import tqdm\n",
    "tqdm.pandas()"
   ]
  },
  {
   "cell_type": "code",
   "execution_count": null,
   "metadata": {},
   "outputs": [],
   "source": [
    "data = pd.read_csv(\"../../data.csv\")"
   ]
  },
  {
   "cell_type": "code",
   "execution_count": null,
   "metadata": {},
   "outputs": [],
   "source": [
    "print(len(data))\n",
    "data.dropna(inplace=True)  \n",
    "print(len(data))"
   ]
  },
  {
   "cell_type": "code",
   "execution_count": null,
   "metadata": {},
   "outputs": [],
   "source": [
    "# Remove rewrite_prompt\n",
    "data = data.loc[\n",
    "    ~(\n",
    "        data.rewrite_prompt.str.contains(\"Translate\", case=False) &\n",
    "        data.rewrite_prompt.str.contains(\"from\", case=False) &\n",
    "        data.rewrite_prompt.str.contains(\"to\", case=False)\n",
    "    )\n",
    "]\n",
    "print(data.shape)\n",
    "words_to_remove = [\"painting\", \"logo\", \"programming\", \"json\", \"html\", \"markdown\", \"python\", \"java\", \"audio\", \"visual\", \"storyboard\"]\n",
    "for word in words_to_remove:\n",
    "   data = data.loc[\n",
    "      ~(data.rewrite_prompt.str.contains(word, regex=False, case=False))\n",
    "   ]\n",
    "print(data.shape)\n",
    "data = data.loc[\n",
    "    ~(\n",
    "        data.rewrite_prompt.str.contains(\"code\", case=False) &\n",
    "        data.rewrite_prompt.str.contains(\"language\", case=False)\n",
    "    )\n",
    "]\n",
    "print(data.shape)"
   ]
  },
  {
   "cell_type": "code",
   "execution_count": null,
   "metadata": {},
   "outputs": [],
   "source": [
    "## Process rewritten text\n",
    "data[\"first_phrase\"] = data.rewritten_text.str.strip().str.split(\"\\\\n\", expand=True)[0]\n",
    "\n",
    "def remove_first_phrase(x):\n",
    "    return x.rewritten_text.replace(x.first_phrase, \"\")\n",
    "\n",
    "data.loc[\n",
    "    data.first_phrase.str.contains(\"##\", case=False), \"rewritten_text\"\n",
    "] = data.loc[\n",
    "    data.first_phrase.str.contains(\"##\", case=False)\n",
    "].apply(remove_first_phrase, axis=1)\n",
    "\n",
    "data.loc[\n",
    "    data.first_phrase.str.contains(\"\\*\\*\", case=False), \"rewritten_text\"\n",
    "] = data.loc[\n",
    "    data.first_phrase.str.contains(\"\\*\\*\", case=False)\n",
    "].apply(remove_first_phrase, axis=1)\n",
    "\n",
    "data.loc[\n",
    "    data.first_phrase.str.contains(\"sure\", case=False) |\n",
    "    data.first_phrase.str.contains(\"here's\", case=False), \"rewritten_text\"\n",
    "] = data.loc[\n",
    "    data.first_phrase.str.contains(\"sure\", case=False) |\n",
    "    data.first_phrase.str.contains(\"here's\", case=False)\n",
    "].apply(remove_first_phrase, axis=1)"
   ]
  },
  {
   "cell_type": "code",
   "execution_count": null,
   "metadata": {},
   "outputs": [],
   "source": [
    "data.loc[\n",
    "    data.first_phrase.str.contains(\"\\*\\*\", case=False), \"rewritten_text\"\n",
    "] = data.loc[\n",
    "    data.first_phrase.str.contains(\"\\*\\*\", case=False)\n",
    "].apply(remove_first_phrase, axis=1)"
   ]
  },
  {
   "cell_type": "code",
   "execution_count": null,
   "metadata": {},
   "outputs": [],
   "source": [
    "# Remove texts where rewritten_text == original_text\n",
    "data = data.loc[\n",
    "    ~(data.rewritten_text == data.original_text)\n",
    "]\n",
    "print(data.shape)"
   ]
  },
  {
   "cell_type": "code",
   "execution_count": null,
   "metadata": {},
   "outputs": [],
   "source": [
    "to_remove = [\n",
    "    \"i am not able\",\n",
    "    \"i'm not able\",\n",
    "    \"text does not\",\n",
    "    \"text doesn't\",\n",
    "    \"i am unable\",\n",
    "    \"i'm unable\",\n",
    "    \"i will not provide\",\n",
    "    \"i won't provide\",\n",
    "    \"inappropriate\",\n",
    "    \"the rewritten text\",\n",
    "    \"the transformed text\",\n",
    "    \"text rewritten\",\n",
    "    \"text transformed\",\n",
    "    \"here is the text\",\n",
    "    \"text you provided\",\n",
    "    \"text provided\",\n",
    "    \"does not describe\"\n",
    "\n",
    "]\n",
    "for word in to_remove:\n",
    "    data = data.loc[\n",
    "        ~data.rewritten_text.str.contains(word, case=False)\n",
    "    ]\n",
    "print(data.shape)"
   ]
  },
  {
   "cell_type": "code",
   "execution_count": null,
   "metadata": {},
   "outputs": [],
   "source": [
    "data[\"text_ratio\"] = data.progress_apply(lambda x: fuzz.ratio(x.original_text, x.rewritten_text), axis=1)\n",
    "# Remove texts where text_ratio > 95\n",
    "data = data.loc[data.text_ratio < 95]\n",
    "print(data.shape)"
   ]
  },
  {
   "cell_type": "code",
   "execution_count": null,
   "metadata": {},
   "outputs": [],
   "source": [
    "data = data[[\"id\", \"original_text\", \"rewrite_prompt\", \"rewritten_text\"]].drop_duplicates().dropna()\n",
    "data[\"rewritten_text\"] = data.rewritten_text.str.strip()"
   ]
  },
  {
   "cell_type": "code",
   "execution_count": null,
   "metadata": {},
   "outputs": [],
   "source": [
    "data.to_csv(\"../../data.csv\", index=False)"
   ]
  }
 ],
 "metadata": {
  "language_info": {
   "name": "python"
  }
 },
 "nbformat": 4,
 "nbformat_minor": 2
}
