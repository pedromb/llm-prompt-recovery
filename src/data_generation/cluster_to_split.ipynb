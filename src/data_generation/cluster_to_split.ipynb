{
 "cells": [
  {
   "cell_type": "code",
   "execution_count": 7,
   "metadata": {},
   "outputs": [],
   "source": [
    "import pandas as pd\n",
    "import pickle as pkl\n",
    "import random"
   ]
  },
  {
   "cell_type": "code",
   "execution_count": 4,
   "metadata": {},
   "outputs": [],
   "source": [
    "zero_shot_out = pkl.load(open(\"/home/pbernardo/github/llm-prompt-recovery/data/mistral_zero_shot_output.pkl\", \"rb\"))\n",
    "data = pd.read_csv(\"/home/pbernardo/github/llm-prompt-recovery/data/data.csv\")"
   ]
  },
  {
   "cell_type": "code",
   "execution_count": 5,
   "metadata": {},
   "outputs": [],
   "source": [
    "filtered_data = data.loc[data.id.isin(zero_shot_out)]"
   ]
  },
  {
   "cell_type": "code",
   "execution_count": 9,
   "metadata": {},
   "outputs": [],
   "source": [
    "val_clusters = []\n",
    "val_size = 1400\n",
    "all_clusters = filtered_data.cluster.unique().tolist()\n",
    "while val_size > 0:\n",
    "    random.shuffle(all_clusters)\n",
    "    c = all_clusters.pop()\n",
    "    val_clusters.append(c)\n",
    "    new_val_data = data.loc[data.cluster == c]\n",
    "    val_size -= len(new_val_data)    "
   ]
  },
  {
   "cell_type": "code",
   "execution_count": 11,
   "metadata": {},
   "outputs": [],
   "source": [
    "cluster_to_split = {c: \"val\" for c in val_clusters}"
   ]
  },
  {
   "cell_type": "code",
   "execution_count": 15,
   "metadata": {},
   "outputs": [],
   "source": [
    "import json\n",
    "json.dump(cluster_to_split, open(\"/home/pbernardo/github/llm-prompt-recovery/data/cluster_to_split.json\", \"w\"))"
   ]
  }
 ],
 "metadata": {
  "kernelspec": {
   "display_name": "kaggle",
   "language": "python",
   "name": "python3"
  },
  "language_info": {
   "codemirror_mode": {
    "name": "ipython",
    "version": 3
   },
   "file_extension": ".py",
   "mimetype": "text/x-python",
   "name": "python",
   "nbconvert_exporter": "python",
   "pygments_lexer": "ipython3",
   "version": "3.11.8"
  }
 },
 "nbformat": 4,
 "nbformat_minor": 2
}
